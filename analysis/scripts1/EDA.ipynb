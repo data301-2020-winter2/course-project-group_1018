{
 "cells": [
  {
   "cell_type": "code",
   "execution_count": null,
   "id": "unsigned-jewelry",
   "metadata": {},
   "outputs": [],
   "source": [
    "import project_functions\n",
    "import pandas as pd\n",
    "import seaborn as sns\n",
    "import numpy as np\n",
    "import matplotlib.pyplot as plt\n",
    "\n",
    "\n",
    "data = project_functions.load_and_process(\"../data/raw/AirQualityUCI.csv\")\n",
    "data \n"
   ]
  }
 ],
 "metadata": {
  "kernelspec": {
   "display_name": "Python 3",
   "language": "python",
   "name": "python3"
  },
  "language_info": {
   "codemirror_mode": {
    "name": "ipython",
    "version": 3
   },
   "file_extension": ".py",
   "mimetype": "text/x-python",
   "name": "python",
   "nbconvert_exporter": "python",
   "pygments_lexer": "ipython3",
   "version": "3.8.5"
  }
 },
 "nbformat": 4,
 "nbformat_minor": 5
}
